{
 "cells": [
  {
   "cell_type": "markdown",
   "metadata": {
    "slideshow": {
     "slide_type": "skip"
    }
   },
   "source": [
    "## Options"
   ]
  },
  {
   "cell_type": "code",
   "execution_count": 19,
   "metadata": {
    "slideshow": {
     "slide_type": "skip"
    }
   },
   "outputs": [],
   "source": [
    "# Autoreload\n",
    "\n",
    "%matplotlib inline\n",
    "\n",
    "# Jupyter / Pandas Options\n",
    "\n",
    "import pandas as pd\n",
    "pd.set_option('display.float_format', lambda x: '%.3f' % x)\n",
    "pd.set_option('display.max_rows', 500)\n",
    "pd.set_option('display.max_columns', 500)\n",
    "pd.set_option('display.width', 1000)\n",
    "\n",
    "import warnings\n",
    "warnings.simplefilter(action='ignore', category=FutureWarning)"
   ]
  },
  {
   "cell_type": "markdown",
   "metadata": {
    "slideshow": {
     "slide_type": "slide"
    }
   },
   "source": [
    "## 1\n",
    "<img src=\"./slides/slide_1.svg\" alt=\"Drawing\" style=\"width: 95%;\"/>"
   ]
  },
  {
   "cell_type": "markdown",
   "metadata": {
    "slideshow": {
     "slide_type": "slide"
    }
   },
   "source": [
    "## 2\n",
    "<img src=\"./slides/slide_2.svg\" alt=\"Drawing\" style=\"width: 95%;\"/>"
   ]
  },
  {
   "cell_type": "markdown",
   "metadata": {
    "slideshow": {
     "slide_type": "slide"
    }
   },
   "source": [
    "## 3\n",
    "<img src=\"./slides/slide_3.svg\" alt=\"Drawing\" style=\"width: 95%;\"/>"
   ]
  },
  {
   "cell_type": "markdown",
   "metadata": {
    "slideshow": {
     "slide_type": "slide"
    }
   },
   "source": [
    "## 4\n",
    "<img src=\"./slides/slide_4.svg\" alt=\"Drawing\" style=\"width: 95%;\"/>"
   ]
  },
  {
   "cell_type": "markdown",
   "metadata": {
    "slideshow": {
     "slide_type": "slide"
    }
   },
   "source": [
    "## 5\n",
    "<img src=\"./slides/slide_5.svg\" alt=\"Drawing\" style=\"width: 95%;\"/>"
   ]
  },
  {
   "cell_type": "markdown",
   "metadata": {
    "slideshow": {
     "slide_type": "slide"
    }
   },
   "source": [
    "## 6\n",
    "<img src=\"./slides/slide_6.svg\" alt=\"Drawing\" style=\"width: 95%;\"/>"
   ]
  },
  {
   "cell_type": "markdown",
   "metadata": {
    "slideshow": {
     "slide_type": "slide"
    }
   },
   "source": [
    "## 7\n",
    "<img src=\"./slides/slide_7.svg\" alt=\"Drawing\" style=\"width: 95%;\"/>"
   ]
  },
  {
   "cell_type": "markdown",
   "metadata": {
    "slideshow": {
     "slide_type": "slide"
    }
   },
   "source": [
    "## 7 Making a Map\n",
    "\n",
    "* For the first part of the tutorial, we're going to make some maps using [Geopandas](https://geopandas.org/) and [Geoplot](https://residentmario.github.io/geoplot/index.html).\n",
    "\n",
    "\n",
    "* As the name suggests, **Geopandas** is an implementation of pandas specifically for GIS, geography and location and it shares a similar API and conventions.\n",
    "\n",
    "\n",
    "* **Geoplot** is a geographic plotting library built on top of matplotlib and seaborn.\n",
    "\n",
    "\n",
    "* So if you know how to use Pandas, Matplotlib and Seaborn you'll be familiar with Geopandas and Geoplot.\n",
    "\n",
    "\n",
    "* As part of the tutorial we'll be making two datasets:\n",
    "    * `gdf_rs` containing our data\n",
    "    * `gdf_map` which is our map"
   ]
  },
  {
   "cell_type": "markdown",
   "metadata": {
    "slideshow": {
     "slide_type": "slide"
    }
   },
   "source": [
    "## 8 Making a Map: Importing our data"
   ]
  },
  {
   "cell_type": "code",
   "execution_count": 2,
   "metadata": {
    "slideshow": {
     "slide_type": "fragment"
    }
   },
   "outputs": [
    {
     "data": {
      "text/html": [
       "<div>\n",
       "<style scoped>\n",
       "    .dataframe tbody tr th:only-of-type {\n",
       "        vertical-align: middle;\n",
       "    }\n",
       "\n",
       "    .dataframe tbody tr th {\n",
       "        vertical-align: top;\n",
       "    }\n",
       "\n",
       "    .dataframe thead th {\n",
       "        text-align: right;\n",
       "    }\n",
       "</style>\n",
       "<table border=\"1\" class=\"dataframe\">\n",
       "  <thead>\n",
       "    <tr style=\"text-align: right;\">\n",
       "      <th></th>\n",
       "      <th>Accident_Index</th>\n",
       "      <th>Location_Easting_OSGR</th>\n",
       "      <th>Location_Northing_OSGR</th>\n",
       "      <th>Longitude</th>\n",
       "      <th>Latitude</th>\n",
       "      <th>Police_Force</th>\n",
       "      <th>Accident_Severity</th>\n",
       "      <th>Number_of_Vehicles</th>\n",
       "      <th>Number_of_Casualties</th>\n",
       "      <th>Date</th>\n",
       "      <th>Day_of_Week</th>\n",
       "      <th>Time</th>\n",
       "      <th>Local_Authority_(District)</th>\n",
       "      <th>Local_Authority_(Highway)</th>\n",
       "      <th>1st_Road_Class</th>\n",
       "      <th>1st_Road_Number</th>\n",
       "      <th>Road_Type</th>\n",
       "      <th>Speed_limit</th>\n",
       "      <th>Junction_Detail</th>\n",
       "      <th>Junction_Control</th>\n",
       "      <th>2nd_Road_Class</th>\n",
       "      <th>2nd_Road_Number</th>\n",
       "      <th>Pedestrian_Crossing-Human_Control</th>\n",
       "      <th>Pedestrian_Crossing-Physical_Facilities</th>\n",
       "      <th>Light_Conditions</th>\n",
       "      <th>Weather_Conditions</th>\n",
       "      <th>Road_Surface_Conditions</th>\n",
       "      <th>Special_Conditions_at_Site</th>\n",
       "      <th>Carriageway_Hazards</th>\n",
       "      <th>Urban_or_Rural_Area</th>\n",
       "      <th>Did_Police_Officer_Attend_Scene_of_Accident</th>\n",
       "      <th>LSOA_of_Accident_Location</th>\n",
       "    </tr>\n",
       "  </thead>\n",
       "  <tbody>\n",
       "    <tr>\n",
       "      <th>0</th>\n",
       "      <td>2018010080971</td>\n",
       "      <td>529150.000</td>\n",
       "      <td>182270.000</td>\n",
       "      <td>-0.140</td>\n",
       "      <td>51.525</td>\n",
       "      <td>1</td>\n",
       "      <td>3</td>\n",
       "      <td>2</td>\n",
       "      <td>2</td>\n",
       "      <td>01/01/2018</td>\n",
       "      <td>2</td>\n",
       "      <td>01:30</td>\n",
       "      <td>2</td>\n",
       "      <td>E09000007</td>\n",
       "      <td>3</td>\n",
       "      <td>501</td>\n",
       "      <td>3</td>\n",
       "      <td>30</td>\n",
       "      <td>0</td>\n",
       "      <td>-1</td>\n",
       "      <td>-1</td>\n",
       "      <td>0</td>\n",
       "      <td>0</td>\n",
       "      <td>0</td>\n",
       "      <td>4</td>\n",
       "      <td>1</td>\n",
       "      <td>1</td>\n",
       "      <td>0</td>\n",
       "      <td>0</td>\n",
       "      <td>1</td>\n",
       "      <td>1</td>\n",
       "      <td>E01000854</td>\n",
       "    </tr>\n",
       "    <tr>\n",
       "      <th>1</th>\n",
       "      <td>2018010080973</td>\n",
       "      <td>542020.000</td>\n",
       "      <td>184290.000</td>\n",
       "      <td>0.046</td>\n",
       "      <td>51.540</td>\n",
       "      <td>1</td>\n",
       "      <td>3</td>\n",
       "      <td>1</td>\n",
       "      <td>1</td>\n",
       "      <td>01/01/2018</td>\n",
       "      <td>2</td>\n",
       "      <td>00:50</td>\n",
       "      <td>17</td>\n",
       "      <td>E09000025</td>\n",
       "      <td>4</td>\n",
       "      <td>165</td>\n",
       "      <td>6</td>\n",
       "      <td>30</td>\n",
       "      <td>2</td>\n",
       "      <td>4</td>\n",
       "      <td>6</td>\n",
       "      <td>0</td>\n",
       "      <td>0</td>\n",
       "      <td>0</td>\n",
       "      <td>4</td>\n",
       "      <td>1</td>\n",
       "      <td>1</td>\n",
       "      <td>0</td>\n",
       "      <td>0</td>\n",
       "      <td>1</td>\n",
       "      <td>1</td>\n",
       "      <td>E01003531</td>\n",
       "    </tr>\n",
       "    <tr>\n",
       "      <th>2</th>\n",
       "      <td>2018010080974</td>\n",
       "      <td>531720.000</td>\n",
       "      <td>182910.000</td>\n",
       "      <td>-0.102</td>\n",
       "      <td>51.530</td>\n",
       "      <td>1</td>\n",
       "      <td>3</td>\n",
       "      <td>2</td>\n",
       "      <td>1</td>\n",
       "      <td>01/01/2018</td>\n",
       "      <td>2</td>\n",
       "      <td>00:45</td>\n",
       "      <td>3</td>\n",
       "      <td>E09000019</td>\n",
       "      <td>3</td>\n",
       "      <td>1</td>\n",
       "      <td>6</td>\n",
       "      <td>20</td>\n",
       "      <td>6</td>\n",
       "      <td>4</td>\n",
       "      <td>5</td>\n",
       "      <td>0</td>\n",
       "      <td>0</td>\n",
       "      <td>5</td>\n",
       "      <td>4</td>\n",
       "      <td>1</td>\n",
       "      <td>1</td>\n",
       "      <td>0</td>\n",
       "      <td>0</td>\n",
       "      <td>1</td>\n",
       "      <td>1</td>\n",
       "      <td>E01002723</td>\n",
       "    </tr>\n",
       "    <tr>\n",
       "      <th>3</th>\n",
       "      <td>2018010080981</td>\n",
       "      <td>541450.000</td>\n",
       "      <td>183220.000</td>\n",
       "      <td>0.038</td>\n",
       "      <td>51.530</td>\n",
       "      <td>1</td>\n",
       "      <td>2</td>\n",
       "      <td>2</td>\n",
       "      <td>1</td>\n",
       "      <td>01/01/2018</td>\n",
       "      <td>2</td>\n",
       "      <td>03:00</td>\n",
       "      <td>17</td>\n",
       "      <td>E09000025</td>\n",
       "      <td>4</td>\n",
       "      <td>167</td>\n",
       "      <td>3</td>\n",
       "      <td>30</td>\n",
       "      <td>7</td>\n",
       "      <td>2</td>\n",
       "      <td>3</td>\n",
       "      <td>124</td>\n",
       "      <td>0</td>\n",
       "      <td>5</td>\n",
       "      <td>4</td>\n",
       "      <td>2</td>\n",
       "      <td>2</td>\n",
       "      <td>0</td>\n",
       "      <td>0</td>\n",
       "      <td>1</td>\n",
       "      <td>1</td>\n",
       "      <td>E01003492</td>\n",
       "    </tr>\n",
       "    <tr>\n",
       "      <th>4</th>\n",
       "      <td>2018010080982</td>\n",
       "      <td>543580.000</td>\n",
       "      <td>176500.000</td>\n",
       "      <td>0.066</td>\n",
       "      <td>51.469</td>\n",
       "      <td>1</td>\n",
       "      <td>2</td>\n",
       "      <td>2</td>\n",
       "      <td>2</td>\n",
       "      <td>01/01/2018</td>\n",
       "      <td>2</td>\n",
       "      <td>02:20</td>\n",
       "      <td>6</td>\n",
       "      <td>E09000011</td>\n",
       "      <td>3</td>\n",
       "      <td>207</td>\n",
       "      <td>6</td>\n",
       "      <td>30</td>\n",
       "      <td>0</td>\n",
       "      <td>-1</td>\n",
       "      <td>-1</td>\n",
       "      <td>0</td>\n",
       "      <td>0</td>\n",
       "      <td>0</td>\n",
       "      <td>4</td>\n",
       "      <td>1</td>\n",
       "      <td>2</td>\n",
       "      <td>0</td>\n",
       "      <td>0</td>\n",
       "      <td>1</td>\n",
       "      <td>1</td>\n",
       "      <td>E01001682</td>\n",
       "    </tr>\n",
       "  </tbody>\n",
       "</table>\n",
       "</div>"
      ],
      "text/plain": [
       "  Accident_Index  Location_Easting_OSGR  Location_Northing_OSGR  Longitude  Latitude  Police_Force  Accident_Severity  Number_of_Vehicles  Number_of_Casualties        Date  Day_of_Week   Time  Local_Authority_(District) Local_Authority_(Highway)  1st_Road_Class  1st_Road_Number  Road_Type  Speed_limit  Junction_Detail  Junction_Control  2nd_Road_Class  2nd_Road_Number  Pedestrian_Crossing-Human_Control  Pedestrian_Crossing-Physical_Facilities  Light_Conditions  Weather_Conditions  Road_Surface_Conditions  Special_Conditions_at_Site  Carriageway_Hazards  Urban_or_Rural_Area  Did_Police_Officer_Attend_Scene_of_Accident LSOA_of_Accident_Location\n",
       "0  2018010080971             529150.000              182270.000     -0.140    51.525             1                  3                   2                     2  01/01/2018            2  01:30                           2                 E09000007               3              501          3           30                0                -1              -1                0                                  0                                        0                 4                   1                        1                           0                    0                    1                                            1                 E01000854\n",
       "1  2018010080973             542020.000              184290.000      0.046    51.540             1                  3                   1                     1  01/01/2018            2  00:50                          17                 E09000025               4              165          6           30                2                 4               6                0                                  0                                        0                 4                   1                        1                           0                    0                    1                                            1                 E01003531\n",
       "2  2018010080974             531720.000              182910.000     -0.102    51.530             1                  3                   2                     1  01/01/2018            2  00:45                           3                 E09000019               3                1          6           20                6                 4               5                0                                  0                                        5                 4                   1                        1                           0                    0                    1                                            1                 E01002723\n",
       "3  2018010080981             541450.000              183220.000      0.038    51.530             1                  2                   2                     1  01/01/2018            2  03:00                          17                 E09000025               4              167          3           30                7                 2               3              124                                  0                                        5                 4                   2                        2                           0                    0                    1                                            1                 E01003492\n",
       "4  2018010080982             543580.000              176500.000      0.066    51.469             1                  2                   2                     2  01/01/2018            2  02:20                           6                 E09000011               3              207          6           30                0                -1              -1                0                                  0                                        0                 4                   1                        2                           0                    0                    1                                            1                 E01001682"
      ]
     },
     "execution_count": 2,
     "metadata": {},
     "output_type": "execute_result"
    }
   ],
   "source": [
    "import pandas as pd\n",
    "\n",
    "# Import as a pandas DataFrame\n",
    "df_rs = pd.read_csv(\n",
    "    'gs://dsf-geo-presentation/datasets/dft_road_safety_incidents.csv',\n",
    "    low_memory=False\n",
    ")\n",
    "\n",
    "# Show the DataFrame\n",
    "df_rs.head()"
   ]
  },
  {
   "cell_type": "markdown",
   "metadata": {
    "slideshow": {
     "slide_type": "notes"
    }
   },
   "source": [
    "**Speaker Notes**\n",
    "\n",
    "* Note that the code and notes are on github - I'll share them at the end of the session\n",
    "\n",
    "\n",
    "* We'll start by importing some data as a familiar pandas DataFrame. We're using 2018 road safety data from the Department for Transport\n",
    "\n",
    "\n",
    "* This is downloadable from data.gov.uk but I've saved it into a Google Cloud Platform bucket so that others can run the notebook.\n",
    "\n",
    "\n",
    "* You'll notice columns for **Easting** and **Northing**. These are a type of **CRS** called the [Ordanance Survey National Grid](https://en.wikipedia.org/wiki/Ordnance_Survey_National_Grid), but also commonly referred to as the British National Grid. \n",
    "\n",
    "\n",
    "* This is quite common for UK government datasets, but far less common for datasets sourced from elsewhere.\n",
    "\n",
    "\n",
    "* You'll also see Longitude and Latitude, probably the most popular CRS that you'll probably have heard of.\n",
    "\n",
    "\n",
    "* There's a column for **LSOA_of_Accident_Location**. **LSOA** stands for **Lower Super Output Area**. This is a code that represents a geographical area.\n",
    "\n",
    "\n",
    "*  **LSOA** is part of a UK geographical hierarchy designed by ONS to improve the quality of geographic statistics. There's a full explanation of the hierarchy on the [ONS Website](https://www.ons.gov.uk/methodology/geography/ukgeographies/censusgeography).\n",
    "\n",
    "\n",
    "* You might also see the abbreviation **NUTS**. Nuts stands for **Nomenclature of Territorial Units for Statistics** and is a hierarchy designed by the EU to improve the quality of EU statistics and make comparisons between countries easier. There is a full explanation on the [Eurostat website](https://ec.europa.eu/eurostat/web/nuts/background)."
   ]
  },
  {
   "cell_type": "markdown",
   "metadata": {
    "slideshow": {
     "slide_type": "slide"
    }
   },
   "source": [
    "## 9 Making a Map: Making a GeoDataframe"
   ]
  },
  {
   "cell_type": "code",
   "execution_count": 3,
   "metadata": {
    "slideshow": {
     "slide_type": "fragment"
    }
   },
   "outputs": [],
   "source": [
    "import geopandas as gpd\n",
    "\n",
    "# Make the geo DataFrame\n",
    "gdf_rs = gpd.GeoDataFrame(\n",
    "    df_rs, \n",
    "    geometry=gpd.points_from_xy(\n",
    "        x=df_rs['Longitude'],\n",
    "        y=df_rs['Latitude']\n",
    "    )\n",
    ")"
   ]
  },
  {
   "cell_type": "code",
   "execution_count": 4,
   "metadata": {
    "slideshow": {
     "slide_type": "subslide"
    }
   },
   "outputs": [
    {
     "data": {
      "text/html": [
       "<div>\n",
       "<style scoped>\n",
       "    .dataframe tbody tr th:only-of-type {\n",
       "        vertical-align: middle;\n",
       "    }\n",
       "\n",
       "    .dataframe tbody tr th {\n",
       "        vertical-align: top;\n",
       "    }\n",
       "\n",
       "    .dataframe thead th {\n",
       "        text-align: right;\n",
       "    }\n",
       "</style>\n",
       "<table border=\"1\" class=\"dataframe\">\n",
       "  <thead>\n",
       "    <tr style=\"text-align: right;\">\n",
       "      <th></th>\n",
       "      <th>Accident_Index</th>\n",
       "      <th>Location_Easting_OSGR</th>\n",
       "      <th>Location_Northing_OSGR</th>\n",
       "      <th>Longitude</th>\n",
       "      <th>Latitude</th>\n",
       "      <th>Police_Force</th>\n",
       "      <th>Accident_Severity</th>\n",
       "      <th>Number_of_Vehicles</th>\n",
       "      <th>Number_of_Casualties</th>\n",
       "      <th>Date</th>\n",
       "      <th>Day_of_Week</th>\n",
       "      <th>Time</th>\n",
       "      <th>Local_Authority_(District)</th>\n",
       "      <th>Local_Authority_(Highway)</th>\n",
       "      <th>1st_Road_Class</th>\n",
       "      <th>1st_Road_Number</th>\n",
       "      <th>Road_Type</th>\n",
       "      <th>Speed_limit</th>\n",
       "      <th>Junction_Detail</th>\n",
       "      <th>Junction_Control</th>\n",
       "      <th>2nd_Road_Class</th>\n",
       "      <th>2nd_Road_Number</th>\n",
       "      <th>Pedestrian_Crossing-Human_Control</th>\n",
       "      <th>Pedestrian_Crossing-Physical_Facilities</th>\n",
       "      <th>Light_Conditions</th>\n",
       "      <th>Weather_Conditions</th>\n",
       "      <th>Road_Surface_Conditions</th>\n",
       "      <th>Special_Conditions_at_Site</th>\n",
       "      <th>Carriageway_Hazards</th>\n",
       "      <th>Urban_or_Rural_Area</th>\n",
       "      <th>Did_Police_Officer_Attend_Scene_of_Accident</th>\n",
       "      <th>LSOA_of_Accident_Location</th>\n",
       "      <th>geometry</th>\n",
       "    </tr>\n",
       "  </thead>\n",
       "  <tbody>\n",
       "    <tr>\n",
       "      <th>0</th>\n",
       "      <td>2018010080971</td>\n",
       "      <td>529150.000</td>\n",
       "      <td>182270.000</td>\n",
       "      <td>-0.140</td>\n",
       "      <td>51.525</td>\n",
       "      <td>1</td>\n",
       "      <td>3</td>\n",
       "      <td>2</td>\n",
       "      <td>2</td>\n",
       "      <td>01/01/2018</td>\n",
       "      <td>2</td>\n",
       "      <td>01:30</td>\n",
       "      <td>2</td>\n",
       "      <td>E09000007</td>\n",
       "      <td>3</td>\n",
       "      <td>501</td>\n",
       "      <td>3</td>\n",
       "      <td>30</td>\n",
       "      <td>0</td>\n",
       "      <td>-1</td>\n",
       "      <td>-1</td>\n",
       "      <td>0</td>\n",
       "      <td>0</td>\n",
       "      <td>0</td>\n",
       "      <td>4</td>\n",
       "      <td>1</td>\n",
       "      <td>1</td>\n",
       "      <td>0</td>\n",
       "      <td>0</td>\n",
       "      <td>1</td>\n",
       "      <td>1</td>\n",
       "      <td>E01000854</td>\n",
       "      <td>POINT (-0.13974 51.52459)</td>\n",
       "    </tr>\n",
       "    <tr>\n",
       "      <th>1</th>\n",
       "      <td>2018010080973</td>\n",
       "      <td>542020.000</td>\n",
       "      <td>184290.000</td>\n",
       "      <td>0.046</td>\n",
       "      <td>51.540</td>\n",
       "      <td>1</td>\n",
       "      <td>3</td>\n",
       "      <td>1</td>\n",
       "      <td>1</td>\n",
       "      <td>01/01/2018</td>\n",
       "      <td>2</td>\n",
       "      <td>00:50</td>\n",
       "      <td>17</td>\n",
       "      <td>E09000025</td>\n",
       "      <td>4</td>\n",
       "      <td>165</td>\n",
       "      <td>6</td>\n",
       "      <td>30</td>\n",
       "      <td>2</td>\n",
       "      <td>4</td>\n",
       "      <td>6</td>\n",
       "      <td>0</td>\n",
       "      <td>0</td>\n",
       "      <td>0</td>\n",
       "      <td>4</td>\n",
       "      <td>1</td>\n",
       "      <td>1</td>\n",
       "      <td>0</td>\n",
       "      <td>0</td>\n",
       "      <td>1</td>\n",
       "      <td>1</td>\n",
       "      <td>E01003531</td>\n",
       "      <td>POINT (0.04647 51.53965)</td>\n",
       "    </tr>\n",
       "    <tr>\n",
       "      <th>2</th>\n",
       "      <td>2018010080974</td>\n",
       "      <td>531720.000</td>\n",
       "      <td>182910.000</td>\n",
       "      <td>-0.102</td>\n",
       "      <td>51.530</td>\n",
       "      <td>1</td>\n",
       "      <td>3</td>\n",
       "      <td>2</td>\n",
       "      <td>1</td>\n",
       "      <td>01/01/2018</td>\n",
       "      <td>2</td>\n",
       "      <td>00:45</td>\n",
       "      <td>3</td>\n",
       "      <td>E09000019</td>\n",
       "      <td>3</td>\n",
       "      <td>1</td>\n",
       "      <td>6</td>\n",
       "      <td>20</td>\n",
       "      <td>6</td>\n",
       "      <td>4</td>\n",
       "      <td>5</td>\n",
       "      <td>0</td>\n",
       "      <td>0</td>\n",
       "      <td>5</td>\n",
       "      <td>4</td>\n",
       "      <td>1</td>\n",
       "      <td>1</td>\n",
       "      <td>0</td>\n",
       "      <td>0</td>\n",
       "      <td>1</td>\n",
       "      <td>1</td>\n",
       "      <td>E01002723</td>\n",
       "      <td>POINT (-0.10247 51.52975)</td>\n",
       "    </tr>\n",
       "    <tr>\n",
       "      <th>3</th>\n",
       "      <td>2018010080981</td>\n",
       "      <td>541450.000</td>\n",
       "      <td>183220.000</td>\n",
       "      <td>0.038</td>\n",
       "      <td>51.530</td>\n",
       "      <td>1</td>\n",
       "      <td>2</td>\n",
       "      <td>2</td>\n",
       "      <td>1</td>\n",
       "      <td>01/01/2018</td>\n",
       "      <td>2</td>\n",
       "      <td>03:00</td>\n",
       "      <td>17</td>\n",
       "      <td>E09000025</td>\n",
       "      <td>4</td>\n",
       "      <td>167</td>\n",
       "      <td>3</td>\n",
       "      <td>30</td>\n",
       "      <td>7</td>\n",
       "      <td>2</td>\n",
       "      <td>3</td>\n",
       "      <td>124</td>\n",
       "      <td>0</td>\n",
       "      <td>5</td>\n",
       "      <td>4</td>\n",
       "      <td>2</td>\n",
       "      <td>2</td>\n",
       "      <td>0</td>\n",
       "      <td>0</td>\n",
       "      <td>1</td>\n",
       "      <td>1</td>\n",
       "      <td>E01003492</td>\n",
       "      <td>POINT (0.03783 51.53018)</td>\n",
       "    </tr>\n",
       "    <tr>\n",
       "      <th>4</th>\n",
       "      <td>2018010080982</td>\n",
       "      <td>543580.000</td>\n",
       "      <td>176500.000</td>\n",
       "      <td>0.066</td>\n",
       "      <td>51.469</td>\n",
       "      <td>1</td>\n",
       "      <td>2</td>\n",
       "      <td>2</td>\n",
       "      <td>2</td>\n",
       "      <td>01/01/2018</td>\n",
       "      <td>2</td>\n",
       "      <td>02:20</td>\n",
       "      <td>6</td>\n",
       "      <td>E09000011</td>\n",
       "      <td>3</td>\n",
       "      <td>207</td>\n",
       "      <td>6</td>\n",
       "      <td>30</td>\n",
       "      <td>0</td>\n",
       "      <td>-1</td>\n",
       "      <td>-1</td>\n",
       "      <td>0</td>\n",
       "      <td>0</td>\n",
       "      <td>0</td>\n",
       "      <td>4</td>\n",
       "      <td>1</td>\n",
       "      <td>2</td>\n",
       "      <td>0</td>\n",
       "      <td>0</td>\n",
       "      <td>1</td>\n",
       "      <td>1</td>\n",
       "      <td>E01001682</td>\n",
       "      <td>POINT (0.06578 51.46926)</td>\n",
       "    </tr>\n",
       "  </tbody>\n",
       "</table>\n",
       "</div>"
      ],
      "text/plain": [
       "  Accident_Index  Location_Easting_OSGR  Location_Northing_OSGR  Longitude  Latitude  Police_Force  Accident_Severity  Number_of_Vehicles  Number_of_Casualties        Date  Day_of_Week   Time  Local_Authority_(District) Local_Authority_(Highway)  1st_Road_Class  1st_Road_Number  Road_Type  Speed_limit  Junction_Detail  Junction_Control  2nd_Road_Class  2nd_Road_Number  Pedestrian_Crossing-Human_Control  Pedestrian_Crossing-Physical_Facilities  Light_Conditions  Weather_Conditions  Road_Surface_Conditions  Special_Conditions_at_Site  Carriageway_Hazards  Urban_or_Rural_Area  Did_Police_Officer_Attend_Scene_of_Accident LSOA_of_Accident_Location                   geometry\n",
       "0  2018010080971             529150.000              182270.000     -0.140    51.525             1                  3                   2                     2  01/01/2018            2  01:30                           2                 E09000007               3              501          3           30                0                -1              -1                0                                  0                                        0                 4                   1                        1                           0                    0                    1                                            1                 E01000854  POINT (-0.13974 51.52459)\n",
       "1  2018010080973             542020.000              184290.000      0.046    51.540             1                  3                   1                     1  01/01/2018            2  00:50                          17                 E09000025               4              165          6           30                2                 4               6                0                                  0                                        0                 4                   1                        1                           0                    0                    1                                            1                 E01003531   POINT (0.04647 51.53965)\n",
       "2  2018010080974             531720.000              182910.000     -0.102    51.530             1                  3                   2                     1  01/01/2018            2  00:45                           3                 E09000019               3                1          6           20                6                 4               5                0                                  0                                        5                 4                   1                        1                           0                    0                    1                                            1                 E01002723  POINT (-0.10247 51.52975)\n",
       "3  2018010080981             541450.000              183220.000      0.038    51.530             1                  2                   2                     1  01/01/2018            2  03:00                          17                 E09000025               4              167          3           30                7                 2               3              124                                  0                                        5                 4                   2                        2                           0                    0                    1                                            1                 E01003492   POINT (0.03783 51.53018)\n",
       "4  2018010080982             543580.000              176500.000      0.066    51.469             1                  2                   2                     2  01/01/2018            2  02:20                           6                 E09000011               3              207          6           30                0                -1              -1                0                                  0                                        0                 4                   1                        2                           0                    0                    1                                            1                 E01001682   POINT (0.06578 51.46926)"
      ]
     },
     "execution_count": 4,
     "metadata": {},
     "output_type": "execute_result"
    }
   ],
   "source": [
    "# Show the DataFrame\n",
    "gdf_rs.head()"
   ]
  },
  {
   "cell_type": "code",
   "execution_count": 5,
   "metadata": {
    "slideshow": {
     "slide_type": "subslide"
    }
   },
   "outputs": [
    {
     "name": "stdout",
     "output_type": "stream",
     "text": [
      "<class 'shapely.geometry.point.Point'>\n"
     ]
    }
   ],
   "source": [
    "# Print the type of the geometry column\n",
    "print(type(gdf_rs['geometry'][0]))"
   ]
  },
  {
   "cell_type": "markdown",
   "metadata": {
    "slideshow": {
     "slide_type": "notes"
    }
   },
   "source": [
    "**Speaker Notes**\n",
    "\n",
    "* We can make a GeoDataframe in Geopandas. \n",
    "\n",
    "\n",
    "* In order to make a GeoDataframe we need to supply some form of geography to the `geometry` argument.\n",
    "\n",
    "\n",
    "* In this case we'll use `Longitude` and `Latitude` and pass it to the `points_from_xy` method on our DataFrame. Note that `Longitude` comes first.\n",
    "\n",
    "\n",
    "* This creates the `geometry` column. This is a convention in GIS and Geopandas.\n",
    "\n",
    "\n",
    "* In this case it has created a `POINT` object which (unsurprisingly) represents a point.\n",
    "\n",
    "\n",
    "* The `POINT` object is a **Shapely** object, which is a package that deals with creating and manipulating geometry.\n",
    "\n",
    "\n",
    "* The `geometry` column can also contain other types of Shapely object, notably `POLYGON` for an area and `MULTIPOLYGON` for a collection of areas."
   ]
  },
  {
   "cell_type": "markdown",
   "metadata": {
    "slideshow": {
     "slide_type": "slide"
    }
   },
   "source": [
    "## 10 Making a Map: Basic Visualisation in Geopandas\n",
    "\n",
    "* As with Pandas, Geopandas has a `plot()` method that enables quick plots:"
   ]
  },
  {
   "cell_type": "code",
   "execution_count": 6,
   "metadata": {
    "slideshow": {
     "slide_type": "fragment"
    }
   },
   "outputs": [
    {
     "data": {
      "image/png": "[encoded data removed]",
      "text/plain": [
       "<Figure size 432x288 with 1 Axes>"
      ]
     },
     "metadata": {
      "needs_background": "light"
     },
     "output_type": "display_data"
    }
   ],
   "source": [
    "gdf_rs.plot();"
   ]
  },
  {
   "cell_type": "markdown",
   "metadata": {
    "slideshow": {
     "slide_type": "notes"
    }
   },
   "source": [
    "**Speaker Notes**\n",
    "\n",
    "* As we can see, it's plotted all the points and it's made a rough shape of the British Isles.\n",
    "\n",
    "\n",
    "* In the scale we can see Lon / Lat values which gives us a clue about the projection (e.g. not OSGB / BNG).\n",
    "\n",
    "\n",
    "* However, ideally, we want to put this on a map, which will mean combining it with a map GeoDataFrame.\n",
    "\n",
    "\n",
    "* Need to make sure that the GeoDataFrames are talking the same language through setting the CRS."
   ]
  },
  {
   "cell_type": "markdown",
   "metadata": {
    "slideshow": {
     "slide_type": "slide"
    }
   },
   "source": [
    "## 11 Making a Map: Setting the CRS\n"
   ]
  },
  {
   "cell_type": "markdown",
   "metadata": {
    "slideshow": {
     "slide_type": "fragment"
    }
   },
   "source": [
    "* Note that there are two ways to set the CRS.\n",
    "    * The old way: `gdf_rs.crs = {'init':'epsg:4326'}`\n",
    "    * The new way: `gdf_rs.crs = {'epsg':'4326'}`\n",
    "    \n",
    "    \n",
    "* Sometimes the new way doesn't work so always check it's correct!\n",
    "\n",
    "\n",
    "* The two most common CRS:\n",
    "    * OSGB / BNG: 27700\n",
    "    * WGS84: 4326\n",
    " \n",
    "    \n",
    "* **OSGB / BNG** is unique to Britain and coordinates are measured in metres. It uses its own coordinate system.\n",
    "\n",
    "\n",
    "* **WGS84** is a worldwide standard and coordinates are measured in degrees. It (like many other CRS) uses Lon / Lat.\n",
    "    \n",
    "    \n",
    "* [EPSG.io](https://epsg.io/) Is a good resource for CRS.\n",
    "\n",
    "\n",
    "* Interesting fact... EPSG stands for [European Petroleum Survey Group](https://support.esri.com/en/technical-article/000011199) who document and maintain a lot of the CRS."
   ]
  },
  {
   "cell_type": "code",
   "execution_count": 7,
   "metadata": {
    "slideshow": {
     "slide_type": "subslide"
    }
   },
   "outputs": [
    {
     "data": {
      "text/plain": [
       "<Geographic 2D CRS: +init=epsg:4326 +type=crs>\n",
       "Name: WGS 84\n",
       "Axis Info [ellipsoidal]:\n",
       "- lon[east]: Longitude (degree)\n",
       "- lat[north]: Latitude (degree)\n",
       "Area of Use:\n",
       "- name: World\n",
       "- bounds: (-180.0, -90.0, 180.0, 90.0)\n",
       "Datum: World Geodetic System 1984\n",
       "- Ellipsoid: WGS 84\n",
       "- Prime Meridian: Greenwich"
      ]
     },
     "execution_count": 7,
     "metadata": {},
     "output_type": "execute_result"
    }
   ],
   "source": [
    "# Set the CRS\n",
    "gdf_rs.crs = {'init':'epsg:4326'}\n",
    "gdf_rs.crs"
   ]
  },
  {
   "cell_type": "markdown",
   "metadata": {
    "slideshow": {
     "slide_type": "notes"
    }
   },
   "source": [
    "**Speaker Notes**\n",
    "\n",
    "* Setting the CRS is really important. Without it Geopandas won't know how to convert your data.\n",
    "\n",
    "\n",
    "* You have to play detective a bit for find the CRS. The only two \n",
    "\n",
    "\n",
    "* Note that there are two ways to set the CRS.\n",
    "    * The old way: `gdf_rs.crs = {'init':'epsg:4326'}`\n",
    "    * The new way: `gdf_rs.crs = {'epsg':'4326'}`\n",
    "    \n",
    "   \n",
    "\n",
    "* Sometimes the new way doesn't work, so be sure to check and double check.\n",
    "\n",
    "\n",
    "* A common mistake is not to set the CRS and then have to do conversions manually."
   ]
  },
  {
   "cell_type": "markdown",
   "metadata": {
    "slideshow": {
     "slide_type": "slide"
    }
   },
   "source": [
    "## 12 Making a Map: Transforming data with Mapshaper\n",
    "\n",
    "* Map files usually come in one of two formats: **Shapefile** and **GeoJSON**\n",
    "\n",
    "\n",
    "* There are lots of good maps available on the [ONS Geoportal](http://geoportal.statistics.gov.uk/), however they come with two challenges:\n",
    "    1. The map files are large.\n",
    "    2. The map files often has a CRS of OSGB / BNG, which means they need to be transformed before we can use them with Longitude and Latitude geometry data. Our dataset has OSGB cooridinates so we could just use those, but in the real world this is unlikely.\n",
    "\n",
    "\n",
    "* We're going to use a [Local Authority District](https://geoportal.statistics.gov.uk/datasets/local-authority-districts-december-2019-boundaries-uk-bfc) map from the [ONS Geoportal](http://geoportal.statistics.gov.uk/)\n",
    "\n",
    "\n",
    "* We can convert it to GEOJSON and reduce the size through simplifying the geometry with [♥️Mapshaper♥️](https://mapshaper.org/)"
   ]
  },
  {
   "cell_type": "markdown",
   "metadata": {
    "slideshow": {
     "slide_type": "slide"
    }
   },
   "source": [
    "## 13 Making a Map: Creating the Map GeoDataFrame"
   ]
  },
  {
   "cell_type": "code",
   "execution_count": 8,
   "metadata": {
    "slideshow": {
     "slide_type": "fragment"
    }
   },
   "outputs": [
    {
     "data": {
      "text/plain": [
       "<Projected CRS: EPSG:27700>\n",
       "Name: OSGB 1936 / British National Grid\n",
       "Axis Info [cartesian]:\n",
       "- E[east]: Easting (metre)\n",
       "- N[north]: Northing (metre)\n",
       "Area of Use:\n",
       "- name: UK - Britain and UKCS 49°46'N to 61°01'N, 7°33'W to 3°33'E\n",
       "- bounds: (-9.2, 49.75, 2.88, 61.14)\n",
       "Coordinate Operation:\n",
       "- name: British National Grid\n",
       "- method: Transverse Mercator\n",
       "Datum: OSGB 1936\n",
       "- Ellipsoid: Airy 1830\n",
       "- Prime Meridian: Greenwich"
      ]
     },
     "execution_count": 8,
     "metadata": {},
     "output_type": "execute_result"
    }
   ],
   "source": [
    "# Create geodataframe\n",
    "gdf_map = gpd.read_file(\n",
    "    'https://storage.googleapis.com/dsf-geo-presentation/maps/UK_LA_Districts.json'\n",
    ")\n",
    "\n",
    "# Set the CRS\n",
    "gdf_map.crs = {'init': 'epsg:27700'}\n",
    "\n",
    "# Check the CRS\n",
    "gdf_map.crs"
   ]
  },
  {
   "cell_type": "code",
   "execution_count": 9,
   "metadata": {
    "slideshow": {
     "slide_type": "subslide"
    }
   },
   "outputs": [
    {
     "data": {
      "text/html": [
       "<div>\n",
       "<style scoped>\n",
       "    .dataframe tbody tr th:only-of-type {\n",
       "        vertical-align: middle;\n",
       "    }\n",
       "\n",
       "    .dataframe tbody tr th {\n",
       "        vertical-align: top;\n",
       "    }\n",
       "\n",
       "    .dataframe thead th {\n",
       "        text-align: right;\n",
       "    }\n",
       "</style>\n",
       "<table border=\"1\" class=\"dataframe\">\n",
       "  <thead>\n",
       "    <tr style=\"text-align: right;\">\n",
       "      <th></th>\n",
       "      <th>objectid</th>\n",
       "      <th>lad19cd</th>\n",
       "      <th>lad19nm</th>\n",
       "      <th>lad19nmw</th>\n",
       "      <th>bng_e</th>\n",
       "      <th>bng_n</th>\n",
       "      <th>long</th>\n",
       "      <th>lat</th>\n",
       "      <th>st_areasha</th>\n",
       "      <th>st_lengths</th>\n",
       "      <th>geometry</th>\n",
       "    </tr>\n",
       "  </thead>\n",
       "  <tbody>\n",
       "    <tr>\n",
       "      <th>0</th>\n",
       "      <td>1</td>\n",
       "      <td>E06000001</td>\n",
       "      <td>Hartlepool</td>\n",
       "      <td></td>\n",
       "      <td>447160</td>\n",
       "      <td>531474</td>\n",
       "      <td>-1.270</td>\n",
       "      <td>54.676</td>\n",
       "      <td>93712619.818</td>\n",
       "      <td>71011.934</td>\n",
       "      <td>POLYGON ((448986.020 536729.680, 440052.701 52...</td>\n",
       "    </tr>\n",
       "    <tr>\n",
       "      <th>1</th>\n",
       "      <td>2</td>\n",
       "      <td>E06000002</td>\n",
       "      <td>Middlesbrough</td>\n",
       "      <td></td>\n",
       "      <td>451141</td>\n",
       "      <td>516887</td>\n",
       "      <td>-1.211</td>\n",
       "      <td>54.545</td>\n",
       "      <td>53881564.271</td>\n",
       "      <td>44481.691</td>\n",
       "      <td>POLYGON ((451747.397 520561.100, 448166.300 52...</td>\n",
       "    </tr>\n",
       "    <tr>\n",
       "      <th>2</th>\n",
       "      <td>3</td>\n",
       "      <td>E06000003</td>\n",
       "      <td>Redcar and Cleveland</td>\n",
       "      <td></td>\n",
       "      <td>464361</td>\n",
       "      <td>519597</td>\n",
       "      <td>-1.006</td>\n",
       "      <td>54.568</td>\n",
       "      <td>245069508.917</td>\n",
       "      <td>96703.990</td>\n",
       "      <td>POLYGON ((478074.077 518800.567, 455910.572 52...</td>\n",
       "    </tr>\n",
       "    <tr>\n",
       "      <th>3</th>\n",
       "      <td>4</td>\n",
       "      <td>E06000004</td>\n",
       "      <td>Stockton-on-Tees</td>\n",
       "      <td></td>\n",
       "      <td>444940</td>\n",
       "      <td>518183</td>\n",
       "      <td>-1.307</td>\n",
       "      <td>54.557</td>\n",
       "      <td>204932953.781</td>\n",
       "      <td>123408.986</td>\n",
       "      <td>POLYGON ((448476.677 525831.960, 440052.701 52...</td>\n",
       "    </tr>\n",
       "    <tr>\n",
       "      <th>4</th>\n",
       "      <td>5</td>\n",
       "      <td>E06000005</td>\n",
       "      <td>Darlington</td>\n",
       "      <td></td>\n",
       "      <td>428029</td>\n",
       "      <td>515648</td>\n",
       "      <td>-1.568</td>\n",
       "      <td>54.535</td>\n",
       "      <td>197475688.992</td>\n",
       "      <td>107206.402</td>\n",
       "      <td>POLYGON ((436388.002 522354.197, 426981.097 52...</td>\n",
       "    </tr>\n",
       "  </tbody>\n",
       "</table>\n",
       "</div>"
      ],
      "text/plain": [
       "   objectid    lad19cd               lad19nm lad19nmw   bng_e   bng_n   long    lat    st_areasha  st_lengths                                           geometry\n",
       "0         1  E06000001            Hartlepool           447160  531474 -1.270 54.676  93712619.818   71011.934  POLYGON ((448986.020 536729.680, 440052.701 52...\n",
       "1         2  E06000002         Middlesbrough           451141  516887 -1.211 54.545  53881564.271   44481.691  POLYGON ((451747.397 520561.100, 448166.300 52...\n",
       "2         3  E06000003  Redcar and Cleveland           464361  519597 -1.006 54.568 245069508.917   96703.990  POLYGON ((478074.077 518800.567, 455910.572 52...\n",
       "3         4  E06000004      Stockton-on-Tees           444940  518183 -1.307 54.557 204932953.781  123408.986  POLYGON ((448476.677 525831.960, 440052.701 52...\n",
       "4         5  E06000005            Darlington           428029  515648 -1.568 54.535 197475688.992  107206.402  POLYGON ((436388.002 522354.197, 426981.097 52..."
      ]
     },
     "execution_count": 9,
     "metadata": {},
     "output_type": "execute_result"
    }
   ],
   "source": [
    "gdf_map.head()"
   ]
  },
  {
   "cell_type": "code",
   "execution_count": 10,
   "metadata": {
    "slideshow": {
     "slide_type": "subslide"
    }
   },
   "outputs": [
    {
     "data": {
      "image/png": "[encoded data removed]",
      "text/plain": [
       "<Figure size 432x288 with 1 Axes>"
      ]
     },
     "metadata": {
      "needs_background": "light"
     },
     "output_type": "display_data"
    }
   ],
   "source": [
    "# Plot the map\n",
    "gdf_map.plot();"
   ]
  },
  {
   "cell_type": "markdown",
   "metadata": {
    "slideshow": {
     "slide_type": "notes"
    }
   },
   "source": [
    "**Speaker Notes**\n",
    "\n",
    "* Here we're creating a second GeoDataFrame: `gdf_map`.\n",
    "\n",
    "\n",
    "* We're using a Local Authority Map of the UK.\n",
    "\n",
    "\n",
    "* We're setting the CRS to 27700 which is the code for OSGB / BNG.\n",
    "\n",
    "\n",
    "* As always we check the CRS!\n",
    "\n",
    "\n",
    "* The `geometry` column contains Shapely `POLYGON` and `MULTIPOLYGON` objects.\n",
    "\n",
    "\n",
    "* Note the axis scale of the map\n",
    "\n",
    "\n",
    "* The map also has Lon / Lat coordinates in it but we can't use these in our `geometry` column as they'll make a `POINT` and not a `POLYGON` or `MULTIPOLYGON`\n",
    "\n",
    "\n",
    "* So we have to convert the CRS so that `gdf_map` DataFrame has the same CRS as the `gdf_rs` DataFrame."
   ]
  },
  {
   "cell_type": "markdown",
   "metadata": {
    "slideshow": {
     "slide_type": "slide"
    }
   },
   "source": [
    "## 14 Making a Map: Removing Polygons"
   ]
  },
  {
   "cell_type": "code",
   "execution_count": 11,
   "metadata": {
    "slideshow": {
     "slide_type": "fragment"
    }
   },
   "outputs": [
    {
     "data": {
      "text/plain": [
       "<matplotlib.axes._subplots.AxesSubplot at 0x124167f10>"
      ]
     },
     "execution_count": 11,
     "metadata": {},
     "output_type": "execute_result"
    },
    {
     "data": {
      "image/png": "[encoded data removed]",
      "text/plain": [
       "<Figure size 432x288 with 1 Axes>"
      ]
     },
     "metadata": {
      "needs_background": "light"
     },
     "output_type": "display_data"
    }
   ],
   "source": [
    "# Removing NI from the map\n",
    "gdf_map = gdf_map[\n",
    "    ~gdf_map['lad19cd'].str.startswith('N')\n",
    "]\n",
    "\n",
    "\n",
    "gdf_map.plot()"
   ]
  },
  {
   "cell_type": "markdown",
   "metadata": {
    "slideshow": {
     "slide_type": "notes"
    }
   },
   "source": [
    "**Speaker Notes**\n",
    "\n",
    "* Our Road Safety Incident data doesn't have NI in it, so we need to remove NI from the map.\n",
    "\n",
    "\n",
    "* The `lad19cd` variable indicates which region a Local Authority is in.\n",
    "\n",
    "\n",
    "* NI regions begin with 'N' so we can remove these records in the same way we would from a pandas DataFrame"
   ]
  },
  {
   "cell_type": "markdown",
   "metadata": {
    "slideshow": {
     "slide_type": "slide"
    }
   },
   "source": [
    "## 15 Making a Map: Converting the CRS"
   ]
  },
  {
   "cell_type": "code",
   "execution_count": 12,
   "metadata": {
    "slideshow": {
     "slide_type": "fragment"
    }
   },
   "outputs": [
    {
     "data": {
      "text/plain": [
       "<Geographic 2D CRS: EPSG:4326>\n",
       "Name: WGS 84\n",
       "Axis Info [ellipsoidal]:\n",
       "- Lat[north]: Geodetic latitude (degree)\n",
       "- Lon[east]: Geodetic longitude (degree)\n",
       "Area of Use:\n",
       "- name: World\n",
       "- bounds: (-180.0, -90.0, 180.0, 90.0)\n",
       "Datum: World Geodetic System 1984\n",
       "- Ellipsoid: WGS 84\n",
       "- Prime Meridian: Greenwich"
      ]
     },
     "execution_count": 12,
     "metadata": {},
     "output_type": "execute_result"
    }
   ],
   "source": [
    "# Convert the CRS of gdf_map\n",
    "gdf_map = gdf_map.to_crs(epsg='4326')\n",
    "\n",
    "# Check the CRS\n",
    "gdf_map.crs"
   ]
  },
  {
   "cell_type": "code",
   "execution_count": 13,
   "metadata": {
    "slideshow": {
     "slide_type": "subslide"
    }
   },
   "outputs": [
    {
     "data": {
      "text/html": [
       "<div>\n",
       "<style scoped>\n",
       "    .dataframe tbody tr th:only-of-type {\n",
       "        vertical-align: middle;\n",
       "    }\n",
       "\n",
       "    .dataframe tbody tr th {\n",
       "        vertical-align: top;\n",
       "    }\n",
       "\n",
       "    .dataframe thead th {\n",
       "        text-align: right;\n",
       "    }\n",
       "</style>\n",
       "<table border=\"1\" class=\"dataframe\">\n",
       "  <thead>\n",
       "    <tr style=\"text-align: right;\">\n",
       "      <th></th>\n",
       "      <th>objectid</th>\n",
       "      <th>lad19cd</th>\n",
       "      <th>lad19nm</th>\n",
       "      <th>lad19nmw</th>\n",
       "      <th>bng_e</th>\n",
       "      <th>bng_n</th>\n",
       "      <th>long</th>\n",
       "      <th>lat</th>\n",
       "      <th>st_areasha</th>\n",
       "      <th>st_lengths</th>\n",
       "      <th>geometry</th>\n",
       "    </tr>\n",
       "  </thead>\n",
       "  <tbody>\n",
       "    <tr>\n",
       "      <th>0</th>\n",
       "      <td>1</td>\n",
       "      <td>E06000001</td>\n",
       "      <td>Hartlepool</td>\n",
       "      <td></td>\n",
       "      <td>447160</td>\n",
       "      <td>531474</td>\n",
       "      <td>-1.270</td>\n",
       "      <td>54.676</td>\n",
       "      <td>93712619.818</td>\n",
       "      <td>71011.934</td>\n",
       "      <td>POLYGON ((-1.24099 54.72319, -1.38090 54.64392...</td>\n",
       "    </tr>\n",
       "    <tr>\n",
       "      <th>1</th>\n",
       "      <td>2</td>\n",
       "      <td>E06000002</td>\n",
       "      <td>Middlesbrough</td>\n",
       "      <td></td>\n",
       "      <td>451141</td>\n",
       "      <td>516887</td>\n",
       "      <td>-1.211</td>\n",
       "      <td>54.545</td>\n",
       "      <td>53881564.271</td>\n",
       "      <td>44481.691</td>\n",
       "      <td>POLYGON ((-1.20098 54.57763, -1.25618 54.58871...</td>\n",
       "    </tr>\n",
       "    <tr>\n",
       "      <th>2</th>\n",
       "      <td>3</td>\n",
       "      <td>E06000003</td>\n",
       "      <td>Redcar and Cleveland</td>\n",
       "      <td></td>\n",
       "      <td>464361</td>\n",
       "      <td>519597</td>\n",
       "      <td>-1.006</td>\n",
       "      <td>54.568</td>\n",
       "      <td>245069508.917</td>\n",
       "      <td>96703.990</td>\n",
       "      <td>POLYGON ((-0.79425 54.55844, -1.13547 54.62960...</td>\n",
       "    </tr>\n",
       "    <tr>\n",
       "      <th>3</th>\n",
       "      <td>4</td>\n",
       "      <td>E06000004</td>\n",
       "      <td>Stockton-on-Tees</td>\n",
       "      <td></td>\n",
       "      <td>444940</td>\n",
       "      <td>518183</td>\n",
       "      <td>-1.307</td>\n",
       "      <td>54.557</td>\n",
       "      <td>204932953.781</td>\n",
       "      <td>123408.986</td>\n",
       "      <td>POLYGON ((-1.25071 54.62532, -1.38090 54.64392...</td>\n",
       "    </tr>\n",
       "    <tr>\n",
       "      <th>4</th>\n",
       "      <td>5</td>\n",
       "      <td>E06000005</td>\n",
       "      <td>Darlington</td>\n",
       "      <td></td>\n",
       "      <td>428029</td>\n",
       "      <td>515648</td>\n",
       "      <td>-1.568</td>\n",
       "      <td>54.535</td>\n",
       "      <td>197475688.992</td>\n",
       "      <td>107206.402</td>\n",
       "      <td>POLYGON ((-1.43836 54.59508, -1.58408 54.58161...</td>\n",
       "    </tr>\n",
       "  </tbody>\n",
       "</table>\n",
       "</div>"
      ],
      "text/plain": [
       "   objectid    lad19cd               lad19nm lad19nmw   bng_e   bng_n   long    lat    st_areasha  st_lengths                                           geometry\n",
       "0         1  E06000001            Hartlepool           447160  531474 -1.270 54.676  93712619.818   71011.934  POLYGON ((-1.24099 54.72319, -1.38090 54.64392...\n",
       "1         2  E06000002         Middlesbrough           451141  516887 -1.211 54.545  53881564.271   44481.691  POLYGON ((-1.20098 54.57763, -1.25618 54.58871...\n",
       "2         3  E06000003  Redcar and Cleveland           464361  519597 -1.006 54.568 245069508.917   96703.990  POLYGON ((-0.79425 54.55844, -1.13547 54.62960...\n",
       "3         4  E06000004      Stockton-on-Tees           444940  518183 -1.307 54.557 204932953.781  123408.986  POLYGON ((-1.25071 54.62532, -1.38090 54.64392...\n",
       "4         5  E06000005            Darlington           428029  515648 -1.568 54.535 197475688.992  107206.402  POLYGON ((-1.43836 54.59508, -1.58408 54.58161..."
      ]
     },
     "execution_count": 13,
     "metadata": {},
     "output_type": "execute_result"
    }
   ],
   "source": [
    "# Check the GeoDataFrame\n",
    "gdf_map.head()"
   ]
  },
  {
   "cell_type": "code",
   "execution_count": 14,
   "metadata": {
    "slideshow": {
     "slide_type": "subslide"
    }
   },
   "outputs": [
    {
     "data": {
      "image/png": "[encoded data removed]",
      "text/plain": [
       "<Figure size 432x288 with 1 Axes>"
      ]
     },
     "metadata": {
      "needs_background": "light"
     },
     "output_type": "display_data"
    }
   ],
   "source": [
    "# Plot the map\n",
    "gdf_map.plot();"
   ]
  },
  {
   "cell_type": "markdown",
   "metadata": {
    "slideshow": {
     "slide_type": "notes"
    }
   },
   "source": [
    "**Speaker Notes**\n",
    "\n",
    "\n",
    "* We can see that the crs and scale has changed from BNG coordinates to Lat / Lon\n",
    "\n",
    "\n",
    "* Also the shape or the UK has changed. This is because WGS84 uses a different projection.\n",
    "\n",
    "\n",
    "* Converting the CRS is easy if you know how. But if you don't it can cause a lot of pain."
   ]
  },
  {
   "cell_type": "markdown",
   "metadata": {
    "slideshow": {
     "slide_type": "slide"
    }
   },
   "source": [
    "## 16 Making a Map: Plotting a basic map"
   ]
  },
  {
   "cell_type": "code",
   "execution_count": 15,
   "metadata": {
    "slideshow": {
     "slide_type": "fragment"
    }
   },
   "outputs": [],
   "source": [
    "def plot_map_1():\n",
    "    \"\"\"Plot a map and data\"\"\"\n",
    "    \n",
    "    # Base Map\n",
    "    base_map = gdf_map.plot(\n",
    "        color='white',\n",
    "        edgecolor='grey',\n",
    "        linewidth=0.5,\n",
    "        figsize=(15, 8),\n",
    "        legend=True\n",
    "    )\n",
    "    base_map.axis('off')\n",
    "    base_map.set_title('UK Road Traffic Incidents 2018')\n",
    "\n",
    "    # Data\n",
    "    gdf_rs.plot(ax=base_map);"
   ]
  },
  {
   "cell_type": "code",
   "execution_count": 16,
   "metadata": {
    "slideshow": {
     "slide_type": "subslide"
    }
   },
   "outputs": [
    {
     "data": {
      "image/png": "[encoded data removed]",
      "text/plain": [
       "<Figure size 1080x576 with 1 Axes>"
      ]
     },
     "metadata": {
      "needs_background": "light"
     },
     "output_type": "display_data"
    }
   ],
   "source": [
    "plot_map_1()"
   ]
  },
  {
   "cell_type": "markdown",
   "metadata": {
    "slideshow": {
     "slide_type": "notes"
    }
   },
   "source": [
    "**Speaker Notes**\n",
    "\n",
    "* Here we're plotting the map using the `plot()` method.\n",
    "\n",
    "\n",
    "* We set the `base_map` object to our `gdf_map` and then apply options using `matplotlib` syntax.\n",
    "\n",
    "\n",
    "* We then plot the points from our `gdf_rs` GeoDataFrame onto the map.\n",
    "\n",
    "\n",
    "* However, we need to apply some styling and a different projection."
   ]
  },
  {
   "cell_type": "markdown",
   "metadata": {
    "slideshow": {
     "slide_type": "slide"
    }
   },
   "source": [
    "## 17 Making a Map: Plotting a Nicer Map"
   ]
  },
  {
   "cell_type": "code",
   "execution_count": 28,
   "metadata": {
    "slideshow": {
     "slide_type": "fragment"
    }
   },
   "outputs": [],
   "source": [
    "   \"\"\"Plot a nicer map and data\"\"\"\n",
    "\n",
    "def plot_map_2():\n",
    "    # Base Map\n",
    "    base_map = gdf_map.to_crs(epsg='3395').plot(\n",
    "        color='white',\n",
    "        edgecolor='grey',\n",
    "        linewidth=0.5,\n",
    "        figsize=(10, 10),\n",
    "        legend=True\n",
    "    )\n",
    "\n",
    "    base_map.axis('off')\n",
    "    base_map.set_title('UK Road Traffic Incidents 2018')\n",
    "\n",
    "    # Data\n",
    "    gdf_rs.to_crs(epsg='3395').plot(\n",
    "        ax=base_map,\n",
    "        markersize=0.2,\n",
    "        color='red'\n",
    "    );"
   ]
  },
  {
   "cell_type": "code",
   "execution_count": 29,
   "metadata": {
    "slideshow": {
     "slide_type": "subslide"
    }
   },
   "outputs": [
    {
     "data": {
      "image/png": "[encoded data removed]",
      "text/plain": [
       "<Figure size 720x720 with 1 Axes>"
      ]
     },
     "metadata": {
      "needs_background": "light"
     },
     "output_type": "display_data"
    }
   ],
   "source": [
    "plot_map_2()"
   ]
  },
  {
   "cell_type": "markdown",
   "metadata": {
    "slideshow": {
     "slide_type": "notes"
    }
   },
   "source": [
    "**Speaker Notes**\n",
    "\n",
    "* This better looking map & projection!\n",
    "\n",
    "\n",
    "* As before we used the `to_crs()` method to convert the CRS and set it to 3395 (Mercator).\n",
    "\n",
    "\n",
    "* Lon / Lat supports many different projections including 4326 (WGS84) and 3395 (Mercator).\n",
    "\n",
    "\n",
    "* For visualisation pick whichever represents your data best.\n",
    "\n",
    "\n",
    "* If your map has a specific use case, you might need to do a little research for the best projection!\n",
    "\n",
    "\n",
    "* Is this the best way to represent the data? Choropleth could be better!"
   ]
  },
  {
   "cell_type": "markdown",
   "metadata": {
    "slideshow": {
     "slide_type": "slide"
    }
   },
   "source": [
    "## 18 Making a Choropleth: Prep the data"
   ]
  },
  {
   "cell_type": "code",
   "execution_count": 30,
   "metadata": {
    "slideshow": {
     "slide_type": "fragment"
    }
   },
   "outputs": [],
   "source": [
    "# Convert DataFrames to dictionaries for iteration\n",
    "map_dict = gdf_map[['lad19nm', 'geometry']].to_dict(orient='records')\n",
    "rs_dict = gdf_rs[['Accident_Index', 'geometry']].to_dict(orient='records')\n",
    "\n",
    "# Empty list to assign output dictionaries to\n",
    "rs_output_list = []\n",
    "\n",
    "for incident in rs_dict:\n",
    "    \n",
    "    # Make a copy of the input indicent\n",
    "    output_dict = incident.copy()\n",
    "    \n",
    "    # For each LA check whether the incident is located inside its polygon\n",
    "    # If it does assign the LA name and append to the rs_output_list & break\n",
    "    # the loop\n",
    "    for la in map_dict:\n",
    "        \n",
    "        if incident['geometry'].within(la['geometry']):\n",
    "            output_dict['lad19nm'] = la['lad19nm']\n",
    "            rs_output_list.append(output_dict)\n",
    "            break\n",
    "        else:\n",
    "            pass"
   ]
  },
  {
   "cell_type": "markdown",
   "metadata": {
    "slideshow": {
     "slide_type": "notes"
    }
   },
   "source": [
    "**Speaker Notes**\n",
    "\n",
    "* Our map is nice but it's difficult to interpret.\n",
    "\n",
    "\n",
    "* A better map would be a choropleth which colours areas based upon a value.\n",
    "\n",
    "\n",
    "* However we need to assign our points to an area to do this.\n",
    "\n",
    "\n",
    "* So we're going to convert our DataFrames to json format and iterate through them to determine which Local Authority a point is in.\n",
    "\n",
    "\n",
    "* We convert the two DataFrames to list of dictionaries (JSON)\n",
    "\n",
    "\n",
    "\n",
    "* I **think** iterating through JSON is quicker than iterating through DataFrames.\n",
    "\n",
    "\n",
    "* For each incident we iterate through the map and use the `within()` method to determine if a `POINT` is in a `POLYGON`\n",
    "\n",
    "\n",
    "* You should do this with as higher quality map as possible! I haven't for simplicity!!\n",
    "\n",
    "\n",
    "* If it is, we assign the name of the Local Authority (lad19nm) to the output dictionary.\n",
    "\n",
    "\n",
    "* I also like parallelising via Dask - this is easier and quicker to write and process with dictionaries / lists.\n",
    "\n",
    "\n",
    "* We then append the output dictionary to the rs_output_list and break the loop."
   ]
  },
  {
   "cell_type": "markdown",
   "metadata": {
    "slideshow": {
     "slide_type": "slide"
    }
   },
   "source": [
    "## 19 Making a Choropleth: Merge the data"
   ]
  },
  {
   "cell_type": "code",
   "execution_count": 31,
   "metadata": {
    "slideshow": {
     "slide_type": "fragment"
    }
   },
   "outputs": [
    {
     "data": {
      "text/html": [
       "<div>\n",
       "<style scoped>\n",
       "    .dataframe tbody tr th:only-of-type {\n",
       "        vertical-align: middle;\n",
       "    }\n",
       "\n",
       "    .dataframe tbody tr th {\n",
       "        vertical-align: top;\n",
       "    }\n",
       "\n",
       "    .dataframe thead th {\n",
       "        text-align: right;\n",
       "    }\n",
       "</style>\n",
       "<table border=\"1\" class=\"dataframe\">\n",
       "  <thead>\n",
       "    <tr style=\"text-align: right;\">\n",
       "      <th></th>\n",
       "      <th>Accident_Index</th>\n",
       "      <th>Location_Easting_OSGR</th>\n",
       "      <th>Location_Northing_OSGR</th>\n",
       "      <th>Longitude</th>\n",
       "      <th>Latitude</th>\n",
       "      <th>Police_Force</th>\n",
       "      <th>Accident_Severity</th>\n",
       "      <th>Number_of_Vehicles</th>\n",
       "      <th>Number_of_Casualties</th>\n",
       "      <th>Date</th>\n",
       "      <th>Day_of_Week</th>\n",
       "      <th>Time</th>\n",
       "      <th>Local_Authority_(District)</th>\n",
       "      <th>Local_Authority_(Highway)</th>\n",
       "      <th>1st_Road_Class</th>\n",
       "      <th>1st_Road_Number</th>\n",
       "      <th>Road_Type</th>\n",
       "      <th>Speed_limit</th>\n",
       "      <th>Junction_Detail</th>\n",
       "      <th>Junction_Control</th>\n",
       "      <th>2nd_Road_Class</th>\n",
       "      <th>2nd_Road_Number</th>\n",
       "      <th>Pedestrian_Crossing-Human_Control</th>\n",
       "      <th>Pedestrian_Crossing-Physical_Facilities</th>\n",
       "      <th>Light_Conditions</th>\n",
       "      <th>Weather_Conditions</th>\n",
       "      <th>Road_Surface_Conditions</th>\n",
       "      <th>Special_Conditions_at_Site</th>\n",
       "      <th>Carriageway_Hazards</th>\n",
       "      <th>Urban_or_Rural_Area</th>\n",
       "      <th>Did_Police_Officer_Attend_Scene_of_Accident</th>\n",
       "      <th>LSOA_of_Accident_Location</th>\n",
       "      <th>geometry</th>\n",
       "      <th>lad19nm</th>\n",
       "      <th>Incidents</th>\n",
       "    </tr>\n",
       "  </thead>\n",
       "  <tbody>\n",
       "    <tr>\n",
       "      <th>0</th>\n",
       "      <td>2018010080971</td>\n",
       "      <td>529150.000</td>\n",
       "      <td>182270.000</td>\n",
       "      <td>-0.140</td>\n",
       "      <td>51.525</td>\n",
       "      <td>1</td>\n",
       "      <td>3</td>\n",
       "      <td>2</td>\n",
       "      <td>2</td>\n",
       "      <td>01/01/2018</td>\n",
       "      <td>2</td>\n",
       "      <td>01:30</td>\n",
       "      <td>2</td>\n",
       "      <td>E09000007</td>\n",
       "      <td>3</td>\n",
       "      <td>501</td>\n",
       "      <td>3</td>\n",
       "      <td>30</td>\n",
       "      <td>0</td>\n",
       "      <td>-1</td>\n",
       "      <td>-1</td>\n",
       "      <td>0</td>\n",
       "      <td>0</td>\n",
       "      <td>0</td>\n",
       "      <td>4</td>\n",
       "      <td>1</td>\n",
       "      <td>1</td>\n",
       "      <td>0</td>\n",
       "      <td>0</td>\n",
       "      <td>1</td>\n",
       "      <td>1</td>\n",
       "      <td>E01000854</td>\n",
       "      <td>POINT (-0.13974 51.52459)</td>\n",
       "      <td>Camden</td>\n",
       "      <td>1</td>\n",
       "    </tr>\n",
       "    <tr>\n",
       "      <th>1</th>\n",
       "      <td>2018010080973</td>\n",
       "      <td>542020.000</td>\n",
       "      <td>184290.000</td>\n",
       "      <td>0.046</td>\n",
       "      <td>51.540</td>\n",
       "      <td>1</td>\n",
       "      <td>3</td>\n",
       "      <td>1</td>\n",
       "      <td>1</td>\n",
       "      <td>01/01/2018</td>\n",
       "      <td>2</td>\n",
       "      <td>00:50</td>\n",
       "      <td>17</td>\n",
       "      <td>E09000025</td>\n",
       "      <td>4</td>\n",
       "      <td>165</td>\n",
       "      <td>6</td>\n",
       "      <td>30</td>\n",
       "      <td>2</td>\n",
       "      <td>4</td>\n",
       "      <td>6</td>\n",
       "      <td>0</td>\n",
       "      <td>0</td>\n",
       "      <td>0</td>\n",
       "      <td>4</td>\n",
       "      <td>1</td>\n",
       "      <td>1</td>\n",
       "      <td>0</td>\n",
       "      <td>0</td>\n",
       "      <td>1</td>\n",
       "      <td>1</td>\n",
       "      <td>E01003531</td>\n",
       "      <td>POINT (0.04647 51.53965)</td>\n",
       "      <td>Newham</td>\n",
       "      <td>1</td>\n",
       "    </tr>\n",
       "    <tr>\n",
       "      <th>2</th>\n",
       "      <td>2018010080974</td>\n",
       "      <td>531720.000</td>\n",
       "      <td>182910.000</td>\n",
       "      <td>-0.102</td>\n",
       "      <td>51.530</td>\n",
       "      <td>1</td>\n",
       "      <td>3</td>\n",
       "      <td>2</td>\n",
       "      <td>1</td>\n",
       "      <td>01/01/2018</td>\n",
       "      <td>2</td>\n",
       "      <td>00:45</td>\n",
       "      <td>3</td>\n",
       "      <td>E09000019</td>\n",
       "      <td>3</td>\n",
       "      <td>1</td>\n",
       "      <td>6</td>\n",
       "      <td>20</td>\n",
       "      <td>6</td>\n",
       "      <td>4</td>\n",
       "      <td>5</td>\n",
       "      <td>0</td>\n",
       "      <td>0</td>\n",
       "      <td>5</td>\n",
       "      <td>4</td>\n",
       "      <td>1</td>\n",
       "      <td>1</td>\n",
       "      <td>0</td>\n",
       "      <td>0</td>\n",
       "      <td>1</td>\n",
       "      <td>1</td>\n",
       "      <td>E01002723</td>\n",
       "      <td>POINT (-0.10247 51.52975)</td>\n",
       "      <td>Islington</td>\n",
       "      <td>1</td>\n",
       "    </tr>\n",
       "    <tr>\n",
       "      <th>3</th>\n",
       "      <td>2018010080981</td>\n",
       "      <td>541450.000</td>\n",
       "      <td>183220.000</td>\n",
       "      <td>0.038</td>\n",
       "      <td>51.530</td>\n",
       "      <td>1</td>\n",
       "      <td>2</td>\n",
       "      <td>2</td>\n",
       "      <td>1</td>\n",
       "      <td>01/01/2018</td>\n",
       "      <td>2</td>\n",
       "      <td>03:00</td>\n",
       "      <td>17</td>\n",
       "      <td>E09000025</td>\n",
       "      <td>4</td>\n",
       "      <td>167</td>\n",
       "      <td>3</td>\n",
       "      <td>30</td>\n",
       "      <td>7</td>\n",
       "      <td>2</td>\n",
       "      <td>3</td>\n",
       "      <td>124</td>\n",
       "      <td>0</td>\n",
       "      <td>5</td>\n",
       "      <td>4</td>\n",
       "      <td>2</td>\n",
       "      <td>2</td>\n",
       "      <td>0</td>\n",
       "      <td>0</td>\n",
       "      <td>1</td>\n",
       "      <td>1</td>\n",
       "      <td>E01003492</td>\n",
       "      <td>POINT (0.03783 51.53018)</td>\n",
       "      <td>Newham</td>\n",
       "      <td>1</td>\n",
       "    </tr>\n",
       "    <tr>\n",
       "      <th>4</th>\n",
       "      <td>2018010080982</td>\n",
       "      <td>543580.000</td>\n",
       "      <td>176500.000</td>\n",
       "      <td>0.066</td>\n",
       "      <td>51.469</td>\n",
       "      <td>1</td>\n",
       "      <td>2</td>\n",
       "      <td>2</td>\n",
       "      <td>2</td>\n",
       "      <td>01/01/2018</td>\n",
       "      <td>2</td>\n",
       "      <td>02:20</td>\n",
       "      <td>6</td>\n",
       "      <td>E09000011</td>\n",
       "      <td>3</td>\n",
       "      <td>207</td>\n",
       "      <td>6</td>\n",
       "      <td>30</td>\n",
       "      <td>0</td>\n",
       "      <td>-1</td>\n",
       "      <td>-1</td>\n",
       "      <td>0</td>\n",
       "      <td>0</td>\n",
       "      <td>0</td>\n",
       "      <td>4</td>\n",
       "      <td>1</td>\n",
       "      <td>2</td>\n",
       "      <td>0</td>\n",
       "      <td>0</td>\n",
       "      <td>1</td>\n",
       "      <td>1</td>\n",
       "      <td>E01001682</td>\n",
       "      <td>POINT (0.06578 51.46926)</td>\n",
       "      <td>Greenwich</td>\n",
       "      <td>1</td>\n",
       "    </tr>\n",
       "  </tbody>\n",
       "</table>\n",
       "</div>"
      ],
      "text/plain": [
       "  Accident_Index  Location_Easting_OSGR  Location_Northing_OSGR  Longitude  Latitude  Police_Force  Accident_Severity  Number_of_Vehicles  Number_of_Casualties        Date  Day_of_Week   Time  Local_Authority_(District) Local_Authority_(Highway)  1st_Road_Class  1st_Road_Number  Road_Type  Speed_limit  Junction_Detail  Junction_Control  2nd_Road_Class  2nd_Road_Number  Pedestrian_Crossing-Human_Control  Pedestrian_Crossing-Physical_Facilities  Light_Conditions  Weather_Conditions  Road_Surface_Conditions  Special_Conditions_at_Site  Carriageway_Hazards  Urban_or_Rural_Area  Did_Police_Officer_Attend_Scene_of_Accident LSOA_of_Accident_Location                   geometry    lad19nm  Incidents\n",
       "0  2018010080971             529150.000              182270.000     -0.140    51.525             1                  3                   2                     2  01/01/2018            2  01:30                           2                 E09000007               3              501          3           30                0                -1              -1                0                                  0                                        0                 4                   1                        1                           0                    0                    1                                            1                 E01000854  POINT (-0.13974 51.52459)     Camden          1\n",
       "1  2018010080973             542020.000              184290.000      0.046    51.540             1                  3                   1                     1  01/01/2018            2  00:50                          17                 E09000025               4              165          6           30                2                 4               6                0                                  0                                        0                 4                   1                        1                           0                    0                    1                                            1                 E01003531   POINT (0.04647 51.53965)     Newham          1\n",
       "2  2018010080974             531720.000              182910.000     -0.102    51.530             1                  3                   2                     1  01/01/2018            2  00:45                           3                 E09000019               3                1          6           20                6                 4               5                0                                  0                                        5                 4                   1                        1                           0                    0                    1                                            1                 E01002723  POINT (-0.10247 51.52975)  Islington          1\n",
       "3  2018010080981             541450.000              183220.000      0.038    51.530             1                  2                   2                     1  01/01/2018            2  03:00                          17                 E09000025               4              167          3           30                7                 2               3              124                                  0                                        5                 4                   2                        2                           0                    0                    1                                            1                 E01003492   POINT (0.03783 51.53018)     Newham          1\n",
       "4  2018010080982             543580.000              176500.000      0.066    51.469             1                  2                   2                     2  01/01/2018            2  02:20                           6                 E09000011               3              207          6           30                0                -1              -1                0                                  0                                        0                 4                   1                        2                           0                    0                    1                                            1                 E01001682   POINT (0.06578 51.46926)  Greenwich          1"
      ]
     },
     "execution_count": 31,
     "metadata": {},
     "output_type": "execute_result"
    }
   ],
   "source": [
    "gdf_ch = pd.merge(\n",
    "    left=gdf_rs,\n",
    "    right=pd.DataFrame(rs_output_list).drop('geometry', axis=1),\n",
    "    on='Accident_Index',\n",
    "    how='left'\n",
    ")\n",
    "\n",
    "gdf_ch['Incidents'] = 1\n",
    "gdf_ch.head()"
   ]
  },
  {
   "cell_type": "markdown",
   "metadata": {
    "slideshow": {
     "slide_type": "notes"
    }
   },
   "source": [
    "**Speaker Notes**\n",
    "\n",
    "* Now we need to put everything together in a single dataset: `gdf_ch`.\n",
    "\n",
    "\n",
    "* The first step is to merge our newly created `lad19nm` column which tells us the LA in which the incident occured.\n",
    "\n",
    "\n",
    "* Here we're merging our JSON object with the incident assigned to a Local Authority onto our gdf_rs DataFrame\n",
    "\n",
    "\n",
    "* We're also creating the `Incidents` column for our upcoming Groupby"
   ]
  },
  {
   "cell_type": "markdown",
   "metadata": {
    "slideshow": {
     "slide_type": "slide"
    }
   },
   "source": [
    "## 20 Making a Choropleth: Groupby"
   ]
  },
  {
   "cell_type": "code",
   "execution_count": 32,
   "metadata": {
    "slideshow": {
     "slide_type": "fragment"
    }
   },
   "outputs": [],
   "source": [
    "# Groupby\n",
    "gdf_ch = (\n",
    "    gdf_ch[['lad19nm', 'Incidents']]\n",
    "    .groupby(['lad19nm'])\n",
    "    .sum()\n",
    "    .reset_index()\n",
    ")\n",
    "\n",
    "# Merge\n",
    "gdf_ch = (\n",
    "    pd.merge(\n",
    "        left=gdf_map[['lad19nm', 'geometry']],\n",
    "        right=gdf_ch,\n",
    "        on='lad19nm',\n",
    "        how='left'\n",
    "    )\n",
    "    .fillna(0)\n",
    ")"
   ]
  },
  {
   "cell_type": "code",
   "execution_count": 33,
   "metadata": {
    "slideshow": {
     "slide_type": "subslide"
    }
   },
   "outputs": [
    {
     "data": {
      "text/html": [
       "<div>\n",
       "<style scoped>\n",
       "    .dataframe tbody tr th:only-of-type {\n",
       "        vertical-align: middle;\n",
       "    }\n",
       "\n",
       "    .dataframe tbody tr th {\n",
       "        vertical-align: top;\n",
       "    }\n",
       "\n",
       "    .dataframe thead th {\n",
       "        text-align: right;\n",
       "    }\n",
       "</style>\n",
       "<table border=\"1\" class=\"dataframe\">\n",
       "  <thead>\n",
       "    <tr style=\"text-align: right;\">\n",
       "      <th></th>\n",
       "      <th>lad19nm</th>\n",
       "      <th>geometry</th>\n",
       "      <th>Incidents</th>\n",
       "    </tr>\n",
       "  </thead>\n",
       "  <tbody>\n",
       "    <tr>\n",
       "      <th>0</th>\n",
       "      <td>Hartlepool</td>\n",
       "      <td>POLYGON ((-1.24099 54.72319, -1.38090 54.64392...</td>\n",
       "      <td>71</td>\n",
       "    </tr>\n",
       "    <tr>\n",
       "      <th>1</th>\n",
       "      <td>Middlesbrough</td>\n",
       "      <td>POLYGON ((-1.20098 54.57763, -1.25618 54.58871...</td>\n",
       "      <td>216</td>\n",
       "    </tr>\n",
       "    <tr>\n",
       "      <th>2</th>\n",
       "      <td>Redcar and Cleveland</td>\n",
       "      <td>POLYGON ((-0.79425 54.55844, -1.13547 54.62960...</td>\n",
       "      <td>116</td>\n",
       "    </tr>\n",
       "    <tr>\n",
       "      <th>3</th>\n",
       "      <td>Stockton-on-Tees</td>\n",
       "      <td>POLYGON ((-1.25071 54.62532, -1.38090 54.64392...</td>\n",
       "      <td>188</td>\n",
       "    </tr>\n",
       "    <tr>\n",
       "      <th>4</th>\n",
       "      <td>Darlington</td>\n",
       "      <td>POLYGON ((-1.43836 54.59508, -1.58408 54.58161...</td>\n",
       "      <td>191</td>\n",
       "    </tr>\n",
       "  </tbody>\n",
       "</table>\n",
       "</div>"
      ],
      "text/plain": [
       "                lad19nm                                           geometry  Incidents\n",
       "0            Hartlepool  POLYGON ((-1.24099 54.72319, -1.38090 54.64392...         71\n",
       "1         Middlesbrough  POLYGON ((-1.20098 54.57763, -1.25618 54.58871...        216\n",
       "2  Redcar and Cleveland  POLYGON ((-0.79425 54.55844, -1.13547 54.62960...        116\n",
       "3      Stockton-on-Tees  POLYGON ((-1.25071 54.62532, -1.38090 54.64392...        188\n",
       "4            Darlington  POLYGON ((-1.43836 54.59508, -1.58408 54.58161...        191"
      ]
     },
     "execution_count": 33,
     "metadata": {},
     "output_type": "execute_result"
    }
   ],
   "source": [
    "gdf_ch.head()"
   ]
  },
  {
   "cell_type": "code",
   "execution_count": 34,
   "metadata": {},
   "outputs": [
    {
     "data": {
      "text/plain": [
       "<matplotlib.axes._subplots.AxesSubplot at 0x12416f450>"
      ]
     },
     "execution_count": 34,
     "metadata": {},
     "output_type": "execute_result"
    },
    {
     "data": {
      "image/png": "[encoded data removed]",
      "text/plain": [
       "<Figure size 432x288 with 1 Axes>"
      ]
     },
     "metadata": {
      "needs_background": "light"
     },
     "output_type": "display_data"
    }
   ],
   "source": [
    "gdf_ch.plot()"
   ]
  },
  {
   "cell_type": "markdown",
   "metadata": {
    "slideshow": {
     "slide_type": "notes"
    }
   },
   "source": [
    "**Speaker Notes**\n",
    "\n",
    "\n",
    "* First of all we're grouping by the LA and summing the incidents.\n",
    "\n",
    "\n",
    "* Then we merge on our map.\n",
    "\n",
    "\n",
    "* Same syntax as pandas - nice!\n",
    "\n",
    "\n",
    "* Geopandas won't plot our data automatically - we need to use **Geoplot** to make our Choropleth."
   ]
  },
  {
   "cell_type": "markdown",
   "metadata": {
    "slideshow": {
     "slide_type": "slide"
    }
   },
   "source": [
    "## 21 Making a Choropleth: Binning with Mapclassify"
   ]
  },
  {
   "cell_type": "code",
   "execution_count": 35,
   "metadata": {
    "slideshow": {
     "slide_type": "fragment"
    }
   },
   "outputs": [
    {
     "data": {
      "text/plain": [
       "Quantiles                 \n",
       "\n",
       "     Interval        Count\n",
       "--------------------------\n",
       "[   1.00,   70.50] |    19\n",
       "(  70.50,   98.00] |    20\n",
       "(  98.00,  122.00] |    17\n",
       "( 122.00,  138.00] |    20\n",
       "( 138.00,  156.00] |    17\n",
       "( 156.00,  181.00] |    20\n",
       "( 181.00,  194.50] |    17\n",
       "( 194.50,  207.00] |    19\n",
       "( 207.00,  228.50] |    18\n",
       "( 228.50,  247.00] |    19\n",
       "( 247.00,  270.00] |    19\n",
       "( 270.00,  284.00] |    18\n",
       "( 284.00,  314.00] |    18\n",
       "( 314.00,  347.00] |    19\n",
       "( 347.00,  378.00] |    18\n",
       "( 378.00,  423.00] |    19\n",
       "( 423.00,  495.00] |    19\n",
       "( 495.00,  662.00] |    19\n",
       "( 662.00,  891.50] |    17\n",
       "( 891.50, 2570.00] |    19"
      ]
     },
     "execution_count": 35,
     "metadata": {},
     "output_type": "execute_result"
    }
   ],
   "source": [
    "import mapclassify\n",
    "\n",
    "scheme = mapclassify.Quantiles(gdf_ch['Incidents'], k=20)\n",
    "scheme"
   ]
  },
  {
   "cell_type": "markdown",
   "metadata": {
    "slideshow": {
     "slide_type": "notes"
    }
   },
   "source": [
    "**Speaker Notes**\n",
    "\n",
    "* Before we can make a Choropleth, we need to sort our data into categories/buckets/bins to apply a colour to.\n",
    "\n",
    "\n",
    "* We can do this with [mapclassify](https://github.com/pysal/mapclassify)\n",
    "\n",
    "\n",
    "* We're using `Quantiles` which splits the data into (more or less) equal categories/buckets/bins"
   ]
  },
  {
   "cell_type": "markdown",
   "metadata": {
    "slideshow": {
     "slide_type": "slide"
    }
   },
   "source": [
    "## 22 Making a Choropleth: Plotting the Choropleth"
   ]
  },
  {
   "cell_type": "code",
   "execution_count": 36,
   "metadata": {
    "slideshow": {
     "slide_type": "fragment"
    }
   },
   "outputs": [],
   "source": [
    "import geoplot\n",
    "\n",
    "def plot_choropleth():\n",
    "    ax = geoplot.choropleth(\n",
    "        gdf_ch,\n",
    "        hue=gdf_ch['Incidents'], \n",
    "        cmap='coolwarm',\n",
    "        scheme=scheme,\n",
    "        legend=True,\n",
    "        linewidth=0,\n",
    "        figsize=(10,10)\n",
    "    )"
   ]
  },
  {
   "cell_type": "code",
   "execution_count": 37,
   "metadata": {
    "slideshow": {
     "slide_type": "subslide"
    }
   },
   "outputs": [
    {
     "data": {
      "image/png": "[encoded data removed]",
      "text/plain": [
       "<Figure size 720x720 with 1 Axes>"
      ]
     },
     "metadata": {
      "needs_background": "light"
     },
     "output_type": "display_data"
    }
   ],
   "source": [
    "plot_choropleth()"
   ]
  },
  {
   "cell_type": "markdown",
   "metadata": {
    "slideshow": {
     "slide_type": "notes"
    }
   },
   "source": [
    "**Speaker Notes**\n",
    "\n",
    "\n",
    "* Geoplot has a similar syntax to Seaborn.\n",
    "\n",
    "\n",
    "* Blue = low. Red = high.\n",
    "\n",
    "\n",
    "* Lots of other cool plots you can do in Geoplot (Heatmaps, Plotting on different map sources etc. etc.)"
   ]
  },
  {
   "cell_type": "markdown",
   "metadata": {
    "slideshow": {
     "slide_type": "slide"
    }
   },
   "source": [
    "## 23\n",
    "<img src=\"./slides/slide_8.svg\" alt=\"Drawing\" style=\"width: 95%;\"/>"
   ]
  },
  {
   "cell_type": "markdown",
   "metadata": {
    "slideshow": {
     "slide_type": "notes"
    }
   },
   "source": [
    "**Speaker Notes**\n",
    "\n",
    "* KeplerGL is an open source location visualisation Framework by Uber.\n",
    "\n",
    "\n",
    "* It's very simple to use - most of the work occurs inside the Kepler interface.\n",
    "\n",
    "\n",
    "* It can render either in your notebook or output to an html file for sharing.\n",
    "\n",
    "\n",
    "* Do need to install a few bits and pieces first (Node and some Notebook widgets) but it's not too much hassle (on a mac)\n",
    "\n"
   ]
  },
  {
   "cell_type": "markdown",
   "metadata": {
    "slideshow": {
     "slide_type": "slide"
    }
   },
   "source": [
    "## 24 KeplerGL: Preparing the Data"
   ]
  },
  {
   "cell_type": "code",
   "execution_count": 38,
   "metadata": {
    "slideshow": {
     "slide_type": "fragment"
    }
   },
   "outputs": [],
   "source": [
    "# Creating a Datetime column (Kepler is funny about datetimes)\n",
    "gdf_rs['Time'] = gdf_rs['Time'].replace('nan', '0:00').fillna('0:00')\n",
    "gdf_rs['DateTime'] = gdf_rs['Date'] + ' ' + gdf_rs['Time']\n",
    "gdf_rs['DateTime'] = pd.to_datetime(gdf_rs['DateTime'], dayfirst=True, errors='coerce')\n",
    "gdf_rs['DateTime'] = gdf_rs['DateTime'].dt.strftime('%Y-%m-%d %H:%M:%S')\n",
    "\n",
    "# Creating an incident value\n",
    "gdf_rs['Incident'] = 1\n",
    "\n",
    "# Selecting only columns we need\n",
    "gdf_rs = gdf_rs[[\n",
    "    'Accident_Index', 'Accident_Severity', 'Number_of_Vehicles',\n",
    "    'Number_of_Casualties', 'Longitude', 'Latitude', 'geometry',\n",
    "    'DateTime'\n",
    "]]"
   ]
  },
  {
   "cell_type": "markdown",
   "metadata": {
    "slideshow": {
     "slide_type": "notes"
    }
   },
   "source": [
    "**Speaker Notes**\n",
    "\n",
    "* Going to be using two datasets we've already created:\n",
    "    * `df_rs`: Our source road incident data\n",
    "    * `df_ch`: Our choropleth\n",
    "\n",
    "\n",
    "* Kepler can use either GeoDataFrames or DataFrames and you don't need to worry about CRS etc.\n",
    "\n",
    "\n",
    "* What you do need to worry about is filesize!\n",
    "\n",
    "\n",
    "* Kepler is very intensive in terms of system resources, so only put in what data you need.\n",
    "\n",
    "\n",
    "* We're also going to create a DateTime column to show the date and time of the collision."
   ]
  },
  {
   "cell_type": "markdown",
   "metadata": {
    "slideshow": {
     "slide_type": "slide"
    }
   },
   "source": [
    "## 24 KeplerGL: Creating the KeplerGL Map"
   ]
  },
  {
   "cell_type": "code",
   "execution_count": 39,
   "metadata": {
    "scrolled": false,
    "slideshow": {
     "slide_type": "fragment"
    }
   },
   "outputs": [
    {
     "name": "stdout",
     "output_type": "stream",
     "text": [
      "User Guide: https://docs.kepler.gl/docs/keplergl-jupyter\n",
      "Map saved to Road_Safety.html!\n"
     ]
    }
   ],
   "source": [
    "from keplergl import KeplerGl\n",
    "\n",
    "kepler_map = KeplerGl(\n",
    "    height=700,\n",
    "    data={\n",
    "        'Incidents': gdf_rs,\n",
    "        'Local Authorities': gdf_ch\n",
    "    }    \n",
    ")\n",
    "\n",
    "kepler_map.save_to_html(file_name=\"Road_Safety.html\")"
   ]
  },
  {
   "cell_type": "markdown",
   "metadata": {
    "slideshow": {
     "slide_type": "slide"
    }
   },
   "source": [
    "## 25 Useful Links\n",
    "\n",
    "General Resources:\n",
    "* [What is GIS?](https://www.esri.com/en-us/what-is-gis/overview)\n",
    "* [A Gentle Introduction to GIS](https://docs.qgis.org/3.4/en/docs/gentle_gis_introduction/index.html)\n",
    "* [Coordinate Reference System (CRS) Finder](https://epsg.io/)\n",
    "* [ONS Geography Hierarchies](https://www.ons.gov.uk/methodology/geography/ukgeographies/censusgeography)\n",
    "\n",
    "Data Sources:\n",
    "* [Data.gov.uk](https://data.gov.uk/)\n",
    "* [ONS 2011 Census](https://www.ons.gov.uk/census/2011census)\n",
    "* [Google Open Datasets (may require sign up to Google Cloud Platform)](https://console.cloud.google.com/marketplace/browse)\n",
    "* [Data.world](https://data.world/)\n",
    "* [Awesome Public Datasets (Github)](https://github.com/awesomedata/awesome-public-datasets)\n",
    "* [Kaggle](https://www.kaggle.com/datasets)\n",
    "\n",
    "Map Sources:\n",
    "* [ONS Geoportal](http://geoportal.statistics.gov.uk/)\n",
    "* [ESRI Data & Maps](https://www.arcgis.com/home/group.html?content=all&id=24838c2d95e14dd18c25e9bad55a7f82#overview)\n",
    "* [DIVA GIS](http://www.diva-gis.org/gdata)\n",
    "\n",
    "Supporting Data:\n",
    "* [Source of data](https://data.gov.uk/dataset/cb7ae6f0-4be6-4935-9277-47e5ce24a11f/road-safety-data)\n",
    "* [Supporting GCS Bucket](https://console.cloud.google.com/storage/browser/dsf-geo-presentation/)\n",
    "\n",
    "Reference:\n",
    "* [GeoPandas API Reference](https://geopandas.org/)\n",
    "* [Mapshaper](https://mapshaper.org/)\n",
    "* [Geoplot](https://residentmario.github.io/geoplot/index.html)\n",
    "* [Mapclassify](https://github.com/pysal/mapclassify)\n",
    "* [KeplerGL](https://kepler.gl/)\n",
    "* [KeplerGL Github (Includes Installation Instructions)](https://github.com/keplergl/kepler.gl/tree/master/bindings/kepler.gl-jupyter)\n",
    "* [KeplerGL User Guide](https://docs.kepler.gl/docs/keplergl-jupyter)"
   ]
  },
  {
   "cell_type": "code",
   "execution_count": null,
   "metadata": {},
   "outputs": [],
   "source": []
  }
 ],
 "metadata": {
  "celltoolbar": "Slideshow",
  "kernelspec": {
   "display_name": "dsf-geo-presentation",
   "language": "python",
   "name": "dsf-geo-presentation"
  },
  "language_info": {
   "codemirror_mode": {
    "name": "ipython",
    "version": 3
   },
   "file_extension": ".py",
   "mimetype": "text/x-python",
   "name": "python",
   "nbconvert_exporter": "python",
   "pygments_lexer": "ipython3",
   "version": "3.7.6"
  }
 },
 "nbformat": 4,
 "nbformat_minor": 4
}
